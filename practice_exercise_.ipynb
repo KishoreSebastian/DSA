{
  "nbformat": 4,
  "nbformat_minor": 0,
  "metadata": {
    "colab": {
      "provenance": []
    },
    "kernelspec": {
      "name": "python3",
      "display_name": "Python 3"
    },
    "language_info": {
      "name": "python"
    }
  },
  "cells": [
    {
      "cell_type": "code",
      "execution_count": 3,
      "metadata": {
        "colab": {
          "base_uri": "https://localhost:8080/"
        },
        "id": "2l5arNJRc54F",
        "outputId": "de4d2e6a-0d97-43f6-b426-2e3599ec07c1"
      },
      "outputs": [
        {
          "output_type": "stream",
          "name": "stdout",
          "text": [
            "Enter the radius of the circle:3\n",
            "The area of the circle is: 28.274333882308138\n"
          ]
        }
      ],
      "source": [
        "import math\n",
        "\n",
        "def compute_circle_area(radius):\n",
        "    return math.pi * radius ** 2\n",
        "radius = float(input(\"Enter the radius of the circle:\"))\n",
        "area = compute_circle_area(radius)\n",
        "print(\"The area of the circle is:\", area)\n"
      ]
    },
    {
      "cell_type": "code",
      "source": [
        "def student_details():\n",
        "  name = input(\"Enter the student's name:\")\n",
        "  roll_number = input(\"Enter the student's roll number:\")\n",
        "  mark = float(input(\"Enter the student's mark:\"))\n",
        "  print(f\"Name: {name}\")\n",
        "  print(f\"Roll Number: {roll_number}\")\n",
        "  print(f\"Mark: {mark}\")\n",
        "student_details()\n"
      ],
      "metadata": {
        "colab": {
          "base_uri": "https://localhost:8080/"
        },
        "id": "f0A_VhNed0YM",
        "outputId": "81d9583d-bb73-4620-b668-39d891e8088c"
      },
      "execution_count": 4,
      "outputs": [
        {
          "output_type": "stream",
          "name": "stdout",
          "text": [
            "Enter the student's name:ARUN\n",
            "Enter the student's roll number:123\n",
            "Enter the student's mark:77.6\n",
            "Name: ARUN\n",
            "Roll Number: 123\n",
            "Mark: 77.6\n"
          ]
        }
      ]
    },
    {
      "cell_type": "code",
      "source": [
        "def find_largest_number(numbers):\n",
        "    if not numbers:\n",
        "        return None\n",
        "    largest_number = numbers[0]\n",
        "    for number in numbers:\n",
        "        if number > largest_number:\n",
        "            largest_number = number\n",
        "    return largest_number\n",
        "numbers =[10,34,55,23,77,21]\n",
        "largest_number = find_largest_number(numbers)\n",
        "\n",
        "if largest_number is not None:\n",
        "    print(f\"The largest number in the list is: {largest_number}\")\n",
        "else:\n",
        "    print(\"The list is empty.\")\n",
        "\n",
        "\n",
        "\n"
      ],
      "metadata": {
        "colab": {
          "base_uri": "https://localhost:8080/"
        },
        "id": "9scQ-eLSggWv",
        "outputId": "72d8e37e-d7af-4b93-b580-4855ba5bca39"
      },
      "execution_count": 10,
      "outputs": [
        {
          "output_type": "stream",
          "name": "stdout",
          "text": [
            "The largest number in the list is: 77\n"
          ]
        }
      ]
    },
    {
      "cell_type": "code",
      "source": [
        "def sum_current_and_previous():\n",
        "  previous_number = 0\n",
        "  for current_number in range(10):\n",
        "    sum_numbers = previous_number + current_number\n",
        "    print(f\"Current Number: {current_number},Previous Number: {previous_number},Sum: {sum_numbers}\")\n",
        "    previous_number =current_number\n",
        "sum_current_and_previous()\n"
      ],
      "metadata": {
        "colab": {
          "base_uri": "https://localhost:8080/"
        },
        "id": "KGtHyU8mhug9",
        "outputId": "b233add9-dfcc-4123-ecf3-34acd907cda4"
      },
      "execution_count": 24,
      "outputs": [
        {
          "output_type": "stream",
          "name": "stdout",
          "text": [
            "Current Number: 0,Previous Number: 0,Sum: 0\n",
            "Current Number: 1,Previous Number: 0,Sum: 1\n",
            "Current Number: 2,Previous Number: 1,Sum: 3\n",
            "Current Number: 3,Previous Number: 2,Sum: 5\n",
            "Current Number: 4,Previous Number: 3,Sum: 7\n",
            "Current Number: 5,Previous Number: 4,Sum: 9\n",
            "Current Number: 6,Previous Number: 5,Sum: 11\n",
            "Current Number: 7,Previous Number: 6,Sum: 13\n",
            "Current Number: 8,Previous Number: 7,Sum: 15\n",
            "Current Number: 9,Previous Number: 8,Sum: 17\n"
          ]
        }
      ]
    },
    {
      "cell_type": "code",
      "source": [
        "def print_divisible_by_five(numbers):\n",
        "    for number in numbers:\n",
        "        if number % 5 == 0:\n",
        "            print(number)\n",
        "numbers = [10, 20, 33, 46, 55, 66, 45]\n",
        "print(\"Numbers divisible by 5:\")\n",
        "print_divisible_by_five(numbers)"
      ],
      "metadata": {
        "colab": {
          "base_uri": "https://localhost:8080/"
        },
        "id": "ZpSb--jtkdFb",
        "outputId": "bfaab2f3-375f-4db9-aeac-adacb1519e2e"
      },
      "execution_count": 25,
      "outputs": [
        {
          "output_type": "stream",
          "name": "stdout",
          "text": [
            "Numbers divisible by 5:\n",
            "10\n",
            "20\n",
            "55\n",
            "45\n"
          ]
        }
      ]
    },
    {
      "cell_type": "code",
      "source": [
        "def is_prime(number):\n",
        "    if number <= 1:\n",
        "        return False\n",
        "    for i in range(2, int(number**0.5) + 1):\n",
        "        if number % i == 0:\n",
        "            return False\n",
        "    return True\n",
        "number = int(input(\"Enter a number:\"))\n",
        "if is_prime(number):\n",
        "    print(f\"{number} is a prime number.\")\n",
        "else:\n",
        "    print(f\"{number} is not a prime number.\")"
      ],
      "metadata": {
        "colab": {
          "base_uri": "https://localhost:8080/"
        },
        "id": "hFWkLw9FmNrv",
        "outputId": "8f7911b4-7785-4121-e01a-f09a582d9523"
      },
      "execution_count": 29,
      "outputs": [
        {
          "output_type": "stream",
          "name": "stdout",
          "text": [
            "Enter a number:5\n",
            "5 is a prime number.\n"
          ]
        }
      ]
    },
    {
      "cell_type": "code",
      "source": [
        "def reverse_list(input_list):\n",
        "    reversed_list = []\n",
        "    for i in range(len(input_list) - 1, -1, -1):\n",
        "        reversed_list.append(input_list[i])\n",
        "    return reversed_list\n",
        "input_list = [1, 2, 3, 4, 5, 6, 7, 8, 9, 10]\n",
        "reversed_list = reverse_list(input_list)\n",
        "\n",
        "print(\"Original list:\", input_list)\n",
        "print(\"Reversed list:\", reversed_list)"
      ],
      "metadata": {
        "colab": {
          "base_uri": "https://localhost:8080/"
        },
        "id": "bT14As9smnnD",
        "outputId": "daca965f-6a19-4db3-b0b7-6ac689a14063"
      },
      "execution_count": 30,
      "outputs": [
        {
          "output_type": "stream",
          "name": "stdout",
          "text": [
            "Original list: [1, 2, 3, 4, 5, 6, 7, 8, 9, 10]\n",
            "Reversed list: [10, 9, 8, 7, 6, 5, 4, 3, 2, 1]\n"
          ]
        }
      ]
    },
    {
      "cell_type": "code",
      "source": [
        "def print_pattern(rows):\n",
        "    for i in range(1, rows + 1):\n",
        "        print('*' * i)\n",
        "rows = 4\n",
        "print_pattern(rows)"
      ],
      "metadata": {
        "colab": {
          "base_uri": "https://localhost:8080/"
        },
        "id": "9i8PHkWgnH4X",
        "outputId": "ee7f8ac8-1d8b-427e-c906-fa1cfcced2b5"
      },
      "execution_count": 31,
      "outputs": [
        {
          "output_type": "stream",
          "name": "stdout",
          "text": [
            "*\n",
            "**\n",
            "***\n",
            "****\n"
          ]
        }
      ]
    },
    {
      "cell_type": "code",
      "source": [
        "def find_max_of_three(a, b, c):\n",
        "    if a >= b and a >= c:\n",
        "        return a\n",
        "    elif b >= a and b >= c:\n",
        "        return b\n",
        "    else:\n",
        "        return c\n",
        "num1 = float(input(\"Enter the first number: \"))\n",
        "num2 = float(input(\"Enter the second number: \"))\n",
        "num3 = float(input(\"Enter the third number: \"))\n",
        "max_number = find_max_of_three(num1, num2, num3)\n",
        "print(f\"The maximum of the three numbers is: {max_number}\")"
      ],
      "metadata": {
        "colab": {
          "base_uri": "https://localhost:8080/"
        },
        "id": "A1q8GqlEndxg",
        "outputId": "ed012dff-ca21-4493-cd6a-f39a425a6bee"
      },
      "execution_count": 32,
      "outputs": [
        {
          "output_type": "stream",
          "name": "stdout",
          "text": [
            "Enter the first number: 45\n",
            "Enter the second number: 34\n",
            "Enter the third number: 76\n",
            "The maximum of the three numbers is: 76.0\n"
          ]
        }
      ]
    },
    {
      "cell_type": "code",
      "source": [
        "def print_pattern(n):\n",
        "  for i in range(1, n + 1):\n",
        "        print('*' * i)\n",
        "  for i in range(n - 1, 0, -1):\n",
        "        print('*' * i)\n",
        "rows = 5\n",
        "print_pattern(rows)"
      ],
      "metadata": {
        "colab": {
          "base_uri": "https://localhost:8080/"
        },
        "id": "PaTtLosYn9C1",
        "outputId": "bdb480a2-3c18-4521-ee52-d83565533a33"
      },
      "execution_count": 33,
      "outputs": [
        {
          "output_type": "stream",
          "name": "stdout",
          "text": [
            "*\n",
            "**\n",
            "***\n",
            "****\n",
            "*****\n",
            "****\n",
            "***\n",
            "**\n",
            "*\n"
          ]
        }
      ]
    },
    {
      "cell_type": "code",
      "source": [],
      "metadata": {
        "id": "wU25BF5NouvE"
      },
      "execution_count": null,
      "outputs": []
    }
  ]
}