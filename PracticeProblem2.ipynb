{
  "nbformat": 4,
  "nbformat_minor": 0,
  "metadata": {
    "colab": {
      "provenance": []
    },
    "kernelspec": {
      "name": "python3",
      "display_name": "Python 3"
    },
    "language_info": {
      "name": "python"
    }
  },
  "cells": [
    {
      "cell_type": "code",
      "execution_count": null,
      "metadata": {
        "colab": {
          "base_uri": "https://localhost:8080/"
        },
        "id": "zM41wqeWuDn3",
        "outputId": "2d6ea08a-470c-45dd-8c7b-ac97ab0246ad"
      },
      "outputs": [
        {
          "output_type": "stream",
          "name": "stdout",
          "text": [
            "Enter a string value:assembly sample output\n",
            "{'a': 2, 's': 3, 'e': 2, 'm': 2, 'b': 1, 'l': 2, 'y': 1, ' ': 2, 'p': 2, 'o': 1, 'u': 2, 't': 2}\n"
          ]
        }
      ],
      "source": [
        "st=input(\"Enter a string value:\")\n",
        "set1={}\n",
        "for i in st:\n",
        "  if i in set1:\n",
        "    set1[i]+=1\n",
        "  else:\n",
        "    set1[i] = 1\n",
        "\n",
        "print(set1)"
      ]
    },
    {
      "cell_type": "code",
      "source": [
        "def max_of_three(a, b, c):\n",
        "  return max(a,b,c)\n",
        "\n",
        "num1 = 34\n",
        "num2 = 12\n",
        "num3 = 7\n",
        "print(f\"The maximum of {num1},{num2},{num3} is {max_of_three(num1,num2,num3)}\")\n"
      ],
      "metadata": {
        "colab": {
          "base_uri": "https://localhost:8080/"
        },
        "id": "jRHgAJQFua4s",
        "outputId": "947b2b36-425d-4845-bd91-731f04f9e3e7"
      },
      "execution_count": null,
      "outputs": [
        {
          "output_type": "stream",
          "name": "stdout",
          "text": [
            "The maximum of 34,12,7 is 34\n"
          ]
        }
      ]
    },
    {
      "cell_type": "code",
      "source": [
        "def exponent(base, exp):\n",
        "   return base ** exp\n",
        "base = 2\n",
        "exp = 3\n",
        "print(f\"{base} raised to the power of {exp} is {exponent(base, exp)}\")"
      ],
      "metadata": {
        "colab": {
          "base_uri": "https://localhost:8080/"
        },
        "id": "CYF3aIVlvdAa",
        "outputId": "c3f321a0-1c48-4c23-fec1-3518646eb948"
      },
      "execution_count": null,
      "outputs": [
        {
          "output_type": "stream",
          "name": "stdout",
          "text": [
            "2 raised to the power of 3 is 8\n"
          ]
        }
      ]
    },
    {
      "cell_type": "code",
      "source": [
        "n=int(input(\"Enter the a positive integer :\"))\n",
        "k=0\n",
        "for i in range(n):\n",
        "  if i > 0:\n",
        "    k+=i*i*i\n",
        "print(k)"
      ],
      "metadata": {
        "colab": {
          "base_uri": "https://localhost:8080/"
        },
        "id": "KoWmyTi7ye1V",
        "outputId": "2961ab95-5c67-494b-8040-5e1aee14db8f"
      },
      "execution_count": null,
      "outputs": [
        {
          "output_type": "stream",
          "name": "stdout",
          "text": [
            "Enter the a positive integer :4\n",
            "36\n"
          ]
        }
      ]
    },
    {
      "cell_type": "code",
      "source": [
        "for i in range(1,11):\n",
        "  if i % 2==0 and i % 5 ==0:\n",
        "    print(\"FizzBuzz\")\n",
        "  elif i % 2==0:\n",
        "    print(\"Fizz\")\n",
        "  elif i % 5 ==0:\n",
        "    print(\"Buzz\")\n",
        "  else:\n",
        "      print(i)"
      ],
      "metadata": {
        "colab": {
          "base_uri": "https://localhost:8080/"
        },
        "id": "hzNfurtuyubP",
        "outputId": "0d2b2435-d5d0-4eec-92a4-4c618146f13d"
      },
      "execution_count": null,
      "outputs": [
        {
          "output_type": "stream",
          "name": "stdout",
          "text": [
            "1\n",
            "Fizz\n",
            "3\n",
            "Fizz\n",
            "Buzz\n",
            "Fizz\n",
            "7\n",
            "Fizz\n",
            "9\n",
            "FizzBuzz\n"
          ]
        }
      ]
    },
    {
      "cell_type": "code",
      "source": [
        "List = [3, 1, 3, 2, 3, 3]\n",
        "def frequent(my_List):\n",
        "    no = 0\n",
        "    for i in my_List:\n",
        "        now_freq = my_List.count(i)\n",
        "        if(now_freq> no):\n",
        "            no= now_freq\n",
        "            num = i\n",
        "\n",
        "    return num\n",
        "print(frequent(List))\n"
      ],
      "metadata": {
        "colab": {
          "base_uri": "https://localhost:8080/"
        },
        "id": "S9IZrp65zH3x",
        "outputId": "fdbfe714-b122-426f-bab8-8b754e87d66b"
      },
      "execution_count": null,
      "outputs": [
        {
          "output_type": "stream",
          "name": "stdout",
          "text": [
            "3\n"
          ]
        }
      ]
    },
    {
      "cell_type": "code",
      "source": [
        "my_list=[2,1,3,1]\n",
        "k=0\n",
        "for i in my_list:\n",
        "  k+=i*i\n",
        "print(k)\n"
      ],
      "metadata": {
        "colab": {
          "base_uri": "https://localhost:8080/"
        },
        "id": "IKDuZCRwzfra",
        "outputId": "d1a391b0-1b5a-48f7-e9c8-7cc2c9fc5e20"
      },
      "execution_count": null,
      "outputs": [
        {
          "output_type": "stream",
          "name": "stdout",
          "text": [
            "15\n"
          ]
        }
      ]
    },
    {
      "cell_type": "code",
      "source": [
        "for i in range(1,16):\n",
        "  if i% 2==0:\n",
        "    print(f\"{i} even\")\n",
        "  else:\n",
        "    print(f\"{i} odd\")"
      ],
      "metadata": {
        "colab": {
          "base_uri": "https://localhost:8080/"
        },
        "id": "MOOTcsg6zgpQ",
        "outputId": "49bd75a2-4e3c-42e7-af8a-6543d42498c1"
      },
      "execution_count": null,
      "outputs": [
        {
          "output_type": "stream",
          "name": "stdout",
          "text": [
            "1 odd\n",
            "2 even\n",
            "3 odd\n",
            "4 even\n",
            "5 odd\n",
            "6 even\n",
            "7 odd\n",
            "8 even\n",
            "9 odd\n",
            "10 even\n",
            "11 odd\n",
            "12 even\n",
            "13 odd\n",
            "14 even\n",
            "15 odd\n"
          ]
        }
      ]
    },
    {
      "cell_type": "code",
      "source": [
        "c=float(input(\"Enter the temperature in Fahrenheit :\"))\n",
        "cel=(c-32) * 5 / 9\n",
        "print(\"Temperature in Celsius :\",cel)\n",
        "\n",
        "\n"
      ],
      "metadata": {
        "colab": {
          "base_uri": "https://localhost:8080/"
        },
        "id": "lRsbty4DzpN8",
        "outputId": "92ab1666-c34d-4330-e879-186a84284c6b"
      },
      "execution_count": null,
      "outputs": [
        {
          "output_type": "stream",
          "name": "stdout",
          "text": [
            "Enter the temperature in Fahrenheit :41\n",
            "Temperature in Celsius : 5.0\n"
          ]
        }
      ]
    },
    {
      "cell_type": "code",
      "source": [
        "def factorial(num):\n",
        "  fact=1\n",
        "  if num < 0:\n",
        "    print(\"Factorial does not exist\")\n",
        "  elif num == 0:\n",
        "    print(\"The factorial of 0 is 1\")\n",
        "  else:\n",
        "    for i in range(1,num + 1):\n",
        "       fact = fact*i\n",
        "    return fact\n",
        "factorial(3)"
      ],
      "metadata": {
        "colab": {
          "base_uri": "https://localhost:8080/"
        },
        "id": "bQyLIAtrzxt_",
        "outputId": "ea6b6515-6587-41a6-9c86-6e66c098912d"
      },
      "execution_count": null,
      "outputs": [
        {
          "output_type": "execute_result",
          "data": {
            "text/plain": [
              "6"
            ]
          },
          "metadata": {},
          "execution_count": 24
        }
      ]
    }
  ]
}